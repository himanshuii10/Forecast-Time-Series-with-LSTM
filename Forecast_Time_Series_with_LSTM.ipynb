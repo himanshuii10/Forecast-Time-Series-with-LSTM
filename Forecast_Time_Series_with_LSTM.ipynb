{
  "nbformat": 4,
  "nbformat_minor": 0,
  "metadata": {
    "colab": {
      "provenance": []
    },
    "kernelspec": {
      "name": "python3",
      "display_name": "Python 3"
    },
    "language_info": {
      "name": "python"
    }
  },
  "cells": [
    {
      "cell_type": "markdown",
      "source": [
        "start by importing all the necessary packages we need"
      ],
      "metadata": {
        "id": "eJ8UfwqPw7Kg"
      }
    },
    {
      "cell_type": "code",
      "execution_count": 1,
      "metadata": {
        "id": "nP00VMlzwy1L"
      },
      "outputs": [],
      "source": [
        "import numpy\n",
        "import matplotlib.pyplot as plt\n",
        "import pandas\n",
        "import math\n",
        "from keras.models import Sequential\n",
        "from keras.layers import Dense\n",
        "from keras.layers import LSTM\n",
        "from sklearn.preprocessing import MinMaxScaler\n",
        "from sklearn.metrics import mean_squared_error\n",
        "# fix random seed for reproducibility\n",
        "numpy.random.seed(7)"
      ]
    },
    {
      "cell_type": "markdown",
      "source": [
        "load the data, and prepare the data so that we can use it on the LSTM model"
      ],
      "metadata": {
        "id": "X2s4V9OWxLrG"
      }
    },
    {
      "cell_type": "code",
      "source": [
        "# load the dataset\n",
        "dataframe = pandas.read_csv('airline-passengers.csv', usecols=[1], engine='python')\n",
        "dataset = dataframe.values\n",
        "dataset = dataset.astype('float32')\n",
        "# normalize the dataset\n",
        "scaler = MinMaxScaler(feature_range=(0, 1))\n",
        "dataset = scaler.fit_transform(dataset)"
      ],
      "metadata": {
        "id": "5X3TdFU-xM5Y"
      },
      "execution_count": 2,
      "outputs": []
    },
    {
      "cell_type": "markdown",
      "source": [
        " split the data into training sets and test sets"
      ],
      "metadata": {
        "id": "QdNrFSyIxYoz"
      }
    },
    {
      "cell_type": "code",
      "source": [
        "# split into train and test sets\n",
        "train_size = int(len(dataset) * 0.67)\n",
        "test_size = len(dataset) - train_size\n",
        "train, test = dataset[0:train_size,:], dataset[train_size:len(dataset),:]\n",
        "print(len(train), len(test))"
      ],
      "metadata": {
        "colab": {
          "base_uri": "https://localhost:8080/"
        },
        "id": "2Yd-f7uKxZFo",
        "outputId": "045a4a4a-1550-421d-d5de-b81fcd139809"
      },
      "execution_count": 3,
      "outputs": [
        {
          "output_type": "stream",
          "name": "stdout",
          "text": [
            "96 48\n"
          ]
        }
      ]
    },
    {
      "cell_type": "markdown",
      "source": [
        "before training the data on the LSTM model, we need to prepare the data so that we can fit it on the model, for this task I will define a helper function"
      ],
      "metadata": {
        "id": "TuYIY_WBxbtv"
      }
    },
    {
      "cell_type": "code",
      "source": [
        "# convert an array of values into a dataset matrix\n",
        "def create_dataset(dataset, look_back=1):\n",
        "\tdataX, dataY = [], []\n",
        "\tfor i in range(len(dataset)-look_back-1):\n",
        "\t\ta = dataset[i:(i+look_back), 0]\n",
        "\t\tdataX.append(a)\n",
        "\t\tdataY.append(dataset[i + look_back, 0])\n",
        "\treturn numpy.array(dataX), numpy.array(dataY)"
      ],
      "metadata": {
        "id": "pG0Ev3ENxiyo"
      },
      "execution_count": 4,
      "outputs": []
    },
    {
      "cell_type": "markdown",
      "source": [
        "we need to reshape the data before applying it into the LSTM model"
      ],
      "metadata": {
        "id": "4_9oU7nUxndx"
      }
    },
    {
      "cell_type": "code",
      "source": [
        "# reshape into X=t and Y=t+1\n",
        "look_back = 1\n",
        "trainX, trainY = create_dataset(train, look_back)\n",
        "testX, testY = create_dataset(test, look_back)\n",
        "# reshape input to be [samples, time steps, features]\n",
        "trainX = numpy.reshape(trainX, (trainX.shape[0], 1, trainX.shape[1]))\n",
        "testX = numpy.reshape(testX, (testX.shape[0], 1, testX.shape[1]))"
      ],
      "metadata": {
        "id": "8SftnUgjxoF8"
      },
      "execution_count": 5,
      "outputs": []
    },
    {
      "cell_type": "markdown",
      "source": [
        "fit the data on the model and let’s train the model"
      ],
      "metadata": {
        "id": "LTNU4cu6xtTh"
      }
    },
    {
      "cell_type": "code",
      "source": [
        "# create and fit the LSTM network\n",
        "model = Sequential()\n",
        "model.add(LSTM(4, input_shape=(1, look_back)))\n",
        "model.add(Dense(1))\n",
        "model.compile(loss='mean_squared_error', optimizer='adam')\n",
        "model.fit(trainX, trainY, epochs=100, batch_size=1, verbose=2)"
      ],
      "metadata": {
        "colab": {
          "base_uri": "https://localhost:8080/"
        },
        "id": "IHe98QEGxuB9",
        "outputId": "44b1b7f4-a9c5-4904-cee3-e1e043b0377d"
      },
      "execution_count": 6,
      "outputs": [
        {
          "output_type": "stream",
          "name": "stdout",
          "text": [
            "Epoch 1/100\n"
          ]
        },
        {
          "output_type": "stream",
          "name": "stderr",
          "text": [
            "/usr/local/lib/python3.11/dist-packages/keras/src/layers/rnn/rnn.py:200: UserWarning: Do not pass an `input_shape`/`input_dim` argument to a layer. When using Sequential models, prefer using an `Input(shape)` object as the first layer in the model instead.\n",
            "  super().__init__(**kwargs)\n"
          ]
        },
        {
          "output_type": "stream",
          "name": "stdout",
          "text": [
            "94/94 - 2s - 25ms/step - loss: 0.0587\n",
            "Epoch 2/100\n",
            "94/94 - 0s - 2ms/step - loss: 0.0312\n",
            "Epoch 3/100\n",
            "94/94 - 0s - 2ms/step - loss: 0.0224\n",
            "Epoch 4/100\n",
            "94/94 - 0s - 3ms/step - loss: 0.0195\n",
            "Epoch 5/100\n",
            "94/94 - 0s - 3ms/step - loss: 0.0183\n",
            "Epoch 6/100\n",
            "94/94 - 0s - 3ms/step - loss: 0.0175\n",
            "Epoch 7/100\n",
            "94/94 - 0s - 3ms/step - loss: 0.0166\n",
            "Epoch 8/100\n",
            "94/94 - 0s - 2ms/step - loss: 0.0159\n",
            "Epoch 9/100\n",
            "94/94 - 0s - 2ms/step - loss: 0.0151\n",
            "Epoch 10/100\n",
            "94/94 - 0s - 3ms/step - loss: 0.0144\n",
            "Epoch 11/100\n",
            "94/94 - 0s - 3ms/step - loss: 0.0137\n",
            "Epoch 12/100\n",
            "94/94 - 0s - 3ms/step - loss: 0.0130\n",
            "Epoch 13/100\n",
            "94/94 - 0s - 3ms/step - loss: 0.0122\n",
            "Epoch 14/100\n",
            "94/94 - 0s - 3ms/step - loss: 0.0114\n",
            "Epoch 15/100\n",
            "94/94 - 0s - 3ms/step - loss: 0.0107\n",
            "Epoch 16/100\n",
            "94/94 - 0s - 3ms/step - loss: 0.0099\n",
            "Epoch 17/100\n",
            "94/94 - 0s - 2ms/step - loss: 0.0092\n",
            "Epoch 18/100\n",
            "94/94 - 0s - 3ms/step - loss: 0.0084\n",
            "Epoch 19/100\n",
            "94/94 - 0s - 3ms/step - loss: 0.0077\n",
            "Epoch 20/100\n",
            "94/94 - 0s - 3ms/step - loss: 0.0070\n",
            "Epoch 21/100\n",
            "94/94 - 0s - 3ms/step - loss: 0.0063\n",
            "Epoch 22/100\n",
            "94/94 - 0s - 3ms/step - loss: 0.0057\n",
            "Epoch 23/100\n",
            "94/94 - 0s - 3ms/step - loss: 0.0051\n",
            "Epoch 24/100\n",
            "94/94 - 0s - 3ms/step - loss: 0.0045\n",
            "Epoch 25/100\n",
            "94/94 - 0s - 3ms/step - loss: 0.0040\n",
            "Epoch 26/100\n",
            "94/94 - 0s - 3ms/step - loss: 0.0036\n",
            "Epoch 27/100\n",
            "94/94 - 0s - 3ms/step - loss: 0.0032\n",
            "Epoch 28/100\n",
            "94/94 - 0s - 3ms/step - loss: 0.0029\n",
            "Epoch 29/100\n",
            "94/94 - 0s - 2ms/step - loss: 0.0027\n",
            "Epoch 30/100\n",
            "94/94 - 0s - 3ms/step - loss: 0.0025\n",
            "Epoch 31/100\n",
            "94/94 - 0s - 2ms/step - loss: 0.0023\n",
            "Epoch 32/100\n",
            "94/94 - 0s - 3ms/step - loss: 0.0022\n",
            "Epoch 33/100\n",
            "94/94 - 0s - 3ms/step - loss: 0.0021\n",
            "Epoch 34/100\n",
            "94/94 - 0s - 2ms/step - loss: 0.0020\n",
            "Epoch 35/100\n",
            "94/94 - 0s - 4ms/step - loss: 0.0020\n",
            "Epoch 36/100\n",
            "94/94 - 1s - 7ms/step - loss: 0.0020\n",
            "Epoch 37/100\n",
            "94/94 - 1s - 7ms/step - loss: 0.0020\n",
            "Epoch 38/100\n",
            "94/94 - 0s - 5ms/step - loss: 0.0020\n",
            "Epoch 39/100\n",
            "94/94 - 0s - 3ms/step - loss: 0.0020\n",
            "Epoch 40/100\n",
            "94/94 - 0s - 2ms/step - loss: 0.0020\n",
            "Epoch 41/100\n",
            "94/94 - 0s - 3ms/step - loss: 0.0019\n",
            "Epoch 42/100\n",
            "94/94 - 0s - 3ms/step - loss: 0.0020\n",
            "Epoch 43/100\n",
            "94/94 - 0s - 3ms/step - loss: 0.0020\n",
            "Epoch 44/100\n",
            "94/94 - 0s - 3ms/step - loss: 0.0020\n",
            "Epoch 45/100\n",
            "94/94 - 0s - 3ms/step - loss: 0.0020\n",
            "Epoch 46/100\n",
            "94/94 - 0s - 3ms/step - loss: 0.0019\n",
            "Epoch 47/100\n",
            "94/94 - 0s - 2ms/step - loss: 0.0020\n",
            "Epoch 48/100\n",
            "94/94 - 0s - 3ms/step - loss: 0.0020\n",
            "Epoch 49/100\n",
            "94/94 - 0s - 3ms/step - loss: 0.0020\n",
            "Epoch 50/100\n",
            "94/94 - 0s - 3ms/step - loss: 0.0020\n",
            "Epoch 51/100\n",
            "94/94 - 0s - 3ms/step - loss: 0.0020\n",
            "Epoch 52/100\n",
            "94/94 - 0s - 3ms/step - loss: 0.0020\n",
            "Epoch 53/100\n",
            "94/94 - 0s - 3ms/step - loss: 0.0019\n",
            "Epoch 54/100\n",
            "94/94 - 0s - 3ms/step - loss: 0.0019\n",
            "Epoch 55/100\n",
            "94/94 - 0s - 2ms/step - loss: 0.0019\n",
            "Epoch 56/100\n",
            "94/94 - 0s - 3ms/step - loss: 0.0019\n",
            "Epoch 57/100\n",
            "94/94 - 0s - 3ms/step - loss: 0.0020\n",
            "Epoch 58/100\n",
            "94/94 - 0s - 3ms/step - loss: 0.0020\n",
            "Epoch 59/100\n",
            "94/94 - 0s - 3ms/step - loss: 0.0019\n",
            "Epoch 60/100\n",
            "94/94 - 0s - 2ms/step - loss: 0.0019\n",
            "Epoch 61/100\n",
            "94/94 - 0s - 2ms/step - loss: 0.0020\n",
            "Epoch 62/100\n",
            "94/94 - 0s - 2ms/step - loss: 0.0020\n",
            "Epoch 63/100\n",
            "94/94 - 0s - 2ms/step - loss: 0.0019\n",
            "Epoch 64/100\n",
            "94/94 - 0s - 3ms/step - loss: 0.0020\n",
            "Epoch 65/100\n",
            "94/94 - 0s - 2ms/step - loss: 0.0020\n",
            "Epoch 66/100\n",
            "94/94 - 0s - 3ms/step - loss: 0.0020\n",
            "Epoch 67/100\n",
            "94/94 - 0s - 3ms/step - loss: 0.0020\n",
            "Epoch 68/100\n",
            "94/94 - 0s - 3ms/step - loss: 0.0020\n",
            "Epoch 69/100\n",
            "94/94 - 0s - 3ms/step - loss: 0.0019\n",
            "Epoch 70/100\n",
            "94/94 - 0s - 2ms/step - loss: 0.0020\n",
            "Epoch 71/100\n",
            "94/94 - 0s - 3ms/step - loss: 0.0020\n",
            "Epoch 72/100\n",
            "94/94 - 0s - 3ms/step - loss: 0.0020\n",
            "Epoch 73/100\n",
            "94/94 - 0s - 2ms/step - loss: 0.0019\n",
            "Epoch 74/100\n",
            "94/94 - 1s - 5ms/step - loss: 0.0020\n",
            "Epoch 75/100\n",
            "94/94 - 1s - 6ms/step - loss: 0.0020\n",
            "Epoch 76/100\n",
            "94/94 - 1s - 7ms/step - loss: 0.0020\n",
            "Epoch 77/100\n",
            "94/94 - 1s - 7ms/step - loss: 0.0020\n",
            "Epoch 78/100\n",
            "94/94 - 1s - 5ms/step - loss: 0.0020\n",
            "Epoch 79/100\n",
            "94/94 - 0s - 3ms/step - loss: 0.0020\n",
            "Epoch 80/100\n",
            "94/94 - 0s - 2ms/step - loss: 0.0020\n",
            "Epoch 81/100\n",
            "94/94 - 0s - 3ms/step - loss: 0.0020\n",
            "Epoch 82/100\n",
            "94/94 - 0s - 2ms/step - loss: 0.0020\n",
            "Epoch 83/100\n",
            "94/94 - 0s - 2ms/step - loss: 0.0019\n",
            "Epoch 84/100\n",
            "94/94 - 0s - 3ms/step - loss: 0.0020\n",
            "Epoch 85/100\n",
            "94/94 - 0s - 2ms/step - loss: 0.0020\n",
            "Epoch 86/100\n",
            "94/94 - 0s - 3ms/step - loss: 0.0019\n",
            "Epoch 87/100\n",
            "94/94 - 0s - 3ms/step - loss: 0.0020\n",
            "Epoch 88/100\n",
            "94/94 - 0s - 2ms/step - loss: 0.0019\n",
            "Epoch 89/100\n",
            "94/94 - 0s - 3ms/step - loss: 0.0020\n",
            "Epoch 90/100\n",
            "94/94 - 0s - 2ms/step - loss: 0.0019\n",
            "Epoch 91/100\n",
            "94/94 - 0s - 3ms/step - loss: 0.0021\n",
            "Epoch 92/100\n",
            "94/94 - 0s - 3ms/step - loss: 0.0019\n",
            "Epoch 93/100\n",
            "94/94 - 0s - 3ms/step - loss: 0.0019\n",
            "Epoch 94/100\n",
            "94/94 - 0s - 3ms/step - loss: 0.0020\n",
            "Epoch 95/100\n",
            "94/94 - 0s - 2ms/step - loss: 0.0020\n",
            "Epoch 96/100\n",
            "94/94 - 0s - 3ms/step - loss: 0.0020\n",
            "Epoch 97/100\n",
            "94/94 - 0s - 3ms/step - loss: 0.0020\n",
            "Epoch 98/100\n",
            "94/94 - 0s - 3ms/step - loss: 0.0020\n",
            "Epoch 99/100\n",
            "94/94 - 0s - 3ms/step - loss: 0.0019\n",
            "Epoch 100/100\n",
            "94/94 - 0s - 3ms/step - loss: 0.0019\n"
          ]
        },
        {
          "output_type": "execute_result",
          "data": {
            "text/plain": [
              "<keras.src.callbacks.history.History at 0x7fe179f7d010>"
            ]
          },
          "metadata": {},
          "execution_count": 6
        }
      ]
    },
    {
      "cell_type": "markdown",
      "source": [
        "make predictions and visualize the time series trends by using  matplotlib"
      ],
      "metadata": {
        "id": "KfGPmktXx3K2"
      }
    },
    {
      "cell_type": "code",
      "source": [
        "# make predictions\n",
        "trainPredict = model.predict(trainX)\n",
        "testPredict = model.predict(testX)\n",
        "# invert predictions\n",
        "trainPredict = scaler.inverse_transform(trainPredict)\n",
        "trainY = scaler.inverse_transform([trainY])\n",
        "testPredict = scaler.inverse_transform(testPredict)\n",
        "testY = scaler.inverse_transform([testY])\n",
        "# calculate root mean squared error\n",
        "trainScore = math.sqrt(mean_squared_error(trainY[0], trainPredict[:,0]))\n",
        "testScore = math.sqrt(mean_squared_error(testY[0], testPredict[:,0]))\n",
        "\n",
        "# shift train predictions for plotting\n",
        "trainPredictPlot = numpy.empty_like(dataset)\n",
        "trainPredictPlot[:, :] = numpy.nan\n",
        "trainPredictPlot[look_back:len(trainPredict)+look_back, :] = trainPredict\n",
        "# shift test predictions for plotting\n",
        "testPredictPlot = numpy.empty_like(dataset)\n",
        "testPredictPlot[:, :] = numpy.nan\n",
        "testPredictPlot[len(trainPredict)+(look_back*2)+1:len(dataset)-1, :] = testPredict\n",
        "# plot baseline and predictions\n",
        "plt.plot(scaler.inverse_transform(dataset))\n",
        "plt.plot(trainPredictPlot)\n",
        "plt.plot(testPredictPlot)\n",
        "plt.show()"
      ],
      "metadata": {
        "colab": {
          "base_uri": "https://localhost:8080/",
          "height": 465
        },
        "id": "5qE23Bavx7KG",
        "outputId": "59f34230-f3df-46d2-fff7-b9ffc58251a9"
      },
      "execution_count": 7,
      "outputs": [
        {
          "output_type": "stream",
          "name": "stdout",
          "text": [
            "\u001b[1m3/3\u001b[0m \u001b[32m━━━━━━━━━━━━━━━━━━━━\u001b[0m\u001b[37m\u001b[0m \u001b[1m1s\u001b[0m 237ms/step\n",
            "\u001b[1m2/2\u001b[0m \u001b[32m━━━━━━━━━━━━━━━━━━━━\u001b[0m\u001b[37m\u001b[0m \u001b[1m0s\u001b[0m 39ms/step\n"
          ]
        },
        {
          "output_type": "display_data",
          "data": {
            "text/plain": [
              "<Figure size 640x480 with 1 Axes>"
            ],
            "image/png": "[encoded data removed]"
          },
          "metadata": {}
        }
      ]
    }
  ]
}
